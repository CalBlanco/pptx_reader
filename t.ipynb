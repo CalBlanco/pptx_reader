{
 "cells": [
  {
   "cell_type": "code",
   "execution_count": 1,
   "metadata": {},
   "outputs": [],
   "source": [
    "from pptx import Presentation"
   ]
  },
  {
   "cell_type": "code",
   "execution_count": 2,
   "metadata": {},
   "outputs": [],
   "source": [
    "import sqlite3"
   ]
  },
  {
   "cell_type": "code",
   "execution_count": 3,
   "metadata": {},
   "outputs": [],
   "source": [
    "prs = Presentation('NLP-220-Lecture2-2024-Jalal-v.1.pptx')\n"
   ]
  },
  {
   "cell_type": "code",
   "execution_count": 57,
   "metadata": {},
   "outputs": [
    {
     "name": "stdout",
     "output_type": "stream",
     "text": [
      "(3, 'CSV Parsing  \\n \\n The separator character is called a delimiter, and the comma is not the only one used. \\n\\nOther popular delimiters include the tab (\\\\t), colon (:) and semi-colon (;) characters. \\n\\nProperly parsing a CSV file requires us to know which delimiter is being used. https://realpython.com/python-csv/')\n"
     ]
    }
   ],
   "source": [
    "slide_data = []\n",
    "for page, slide in enumerate(prs.slides):\n",
    "   #print(prs.slides.index(slide))\n",
    "    page_text = []\n",
    "    for shape in slide.shapes:\n",
    "\n",
    "        if shape.has_text_frame:\n",
    "            t = shape.text_frame\n",
    "            try:\n",
    "                page_text.append(t.text)\n",
    "            except Exception as e:\n",
    "                print(e)\n",
    "    slide_data.append((page, ' '.join(page_text)))\n",
    "\n",
    "print(slide_data[3])"
   ]
  },
  {
   "cell_type": "code",
   "execution_count": 71,
   "metadata": {},
   "outputs": [
    {
     "name": "stdout",
     "output_type": "stream",
     "text": [
      "NLP-220-Lecture2-2024-Jalal-v.1.pptx\n"
     ]
    }
   ],
   "source": [
    "def get_text_from_pptx(pptx_file:str):\n",
    "    file_name = pptx_file.split(\"/\")[-1]\n",
    "    print(file_name)\n",
    "    prs = Presentation('NLP-220-Lecture2-2024-Jalal-v.1.pptx')\n",
    "\n",
    "    slide_data = []\n",
    "    for page, slide in enumerate(prs.slides):\n",
    "    #print(prs.slides.index(slide))\n",
    "        page_text = []\n",
    "        for shape in slide.shapes:\n",
    "\n",
    "            if shape.has_text_frame:\n",
    "                t = shape.text_frame\n",
    "                try:\n",
    "                    page_text.append(t.text)\n",
    "                except Exception as e:\n",
    "                    print(e)\n",
    "        slide_data.append((file_name, page, ' '.join(page_text)))\n",
    "\n",
    "    return slide_data\n",
    "\n",
    "import os\n",
    "slide_text = []\n",
    "for file in os.listdir('./'):\n",
    "    if file.find('.pptx') != -1:\n",
    "        slide_text = get_text_from_pptx(file)\n"
   ]
  },
  {
   "cell_type": "code",
   "execution_count": 87,
   "metadata": {},
   "outputs": [
    {
     "ename": "OperationalError",
     "evalue": "parse error in \"file_name NOT NULL PRIMARY KEY\"",
     "output_type": "error",
     "traceback": [
      "\u001b[0;31m---------------------------------------------------------------------------\u001b[0m",
      "\u001b[0;31mOperationalError\u001b[0m                          Traceback (most recent call last)",
      "Cell \u001b[0;32mIn[87], line 5\u001b[0m\n\u001b[1;32m      2\u001b[0m conn \u001b[38;5;241m=\u001b[39m sqlite3\u001b[38;5;241m.\u001b[39mconnect(\u001b[38;5;124m'\u001b[39m\u001b[38;5;124msearchable.db\u001b[39m\u001b[38;5;124m'\u001b[39m)\n\u001b[1;32m      4\u001b[0m \u001b[38;5;66;03m# Enable FTS5 extension (SQLite3 supports it by default in modern versions)\u001b[39;00m\n\u001b[0;32m----> 5\u001b[0m \u001b[43mconn\u001b[49m\u001b[38;5;241;43m.\u001b[39;49m\u001b[43mexecute\u001b[49m\u001b[43m(\u001b[49m\u001b[38;5;124;43m'''\u001b[39;49m\n\u001b[1;32m      6\u001b[0m \u001b[38;5;124;43mCREATE VIRTUAL TABLE IF NOT EXISTS records USING fts5(\u001b[39;49m\n\u001b[1;32m      7\u001b[0m \u001b[38;5;124;43m            file_name NOT NULL PRIMARY KEY, \u001b[39;49m\n\u001b[1;32m      8\u001b[0m \u001b[38;5;124;43m            page NOT NULL UNIQUE, \u001b[39;49m\n\u001b[1;32m      9\u001b[0m \u001b[38;5;124;43m            content);\u001b[39;49m\n\u001b[1;32m     10\u001b[0m \u001b[38;5;124;43m'''\u001b[39;49m\u001b[43m)\u001b[49m\n\u001b[1;32m     12\u001b[0m \u001b[38;5;28mprint\u001b[39m(\u001b[38;5;124m\"\u001b[39m\u001b[38;5;124mFTS5 table created.\u001b[39m\u001b[38;5;124m\"\u001b[39m)\n\u001b[1;32m     14\u001b[0m \u001b[38;5;28;01mdef\u001b[39;00m \u001b[38;5;21madd_record\u001b[39m(conn, data):\n",
      "\u001b[0;31mOperationalError\u001b[0m: parse error in \"file_name NOT NULL PRIMARY KEY\""
     ]
    }
   ],
   "source": [
    "# Create a connection to SQLite\n",
    "conn = sqlite3.connect('searchable.db')\n",
    "\n",
    "# Enable FTS5 extension (SQLite3 supports it by default in modern versions)\n",
    "conn.execute('''\n",
    "CREATE VIRTUAL TABLE IF NOT EXISTS records USING fts5(\n",
    "            file_name NOT NULL PRIMARY KEY, \n",
    "            page NOT NULL UNIQUE, \n",
    "            content);\n",
    "''')\n",
    "\n",
    "print(\"FTS5 table created.\")\n",
    "\n",
    "def add_record(conn, data):\n",
    "    \"\"\"Insert a record into the FTS5 table.\"\"\"\n",
    "    conn.executemany('INSERT INTO records(file_name, page, content) VALUES (?, ?, ?);', data)\n",
    "    conn.commit()\n",
    "\n",
    "print(slide_text)\n"
   ]
  },
  {
   "cell_type": "code",
   "execution_count": 73,
   "metadata": {},
   "outputs": [],
   "source": [
    "add_record(conn, slide_text)"
   ]
  },
  {
   "cell_type": "code",
   "execution_count": null,
   "metadata": {},
   "outputs": [
    {
     "name": "stdout",
     "output_type": "stream",
     "text": [
      "('NLP-220-Lecture2-2024-Jalal-v.1.pptx', 44, 'Installing NLTK Download and Install\\nhttp://nltk.org/install.html\\nDownload NLTK data\\n>>> import nltk\\n>>> nltk.download()\\n\\nYou will need to import the necessary modules to create objects and call member functions\\nimport ~ include objects from pre-built packages\\n\\nFreqDist, ConditionalFreqDist are in nltk.probability\\n\\nPlaintextCorpusReader is in nltk.corpus\\n')\n"
     ]
    }
   ],
   "source": [
    "def search_records(conn, query):\n",
    "    \"\"\"Search for records matching the query.\"\"\"\n",
    "    cursor = conn.execute('SELECT file_name, page, content FROM records WHERE records MATCH ?;', (query,))\n",
    "    return [row for row in cursor.fetchall()]\n",
    "\n",
    "\n"
   ]
  },
  {
   "cell_type": "code",
   "execution_count": 85,
   "metadata": {},
   "outputs": [
    {
     "name": "stdout",
     "output_type": "stream",
     "text": [
      "\u001b[1m\u001b[93m Hello\n"
     ]
    }
   ],
   "source": [
    "OKCYAN = '\\033[96m'\n",
    "WARNING = '\\033[93m'\n",
    "UNDERLINE = '\\033[4m'\n",
    "BOLD = '\\033[1m'\n",
    "print(f'{BOLD}{WARNING} Hello')"
   ]
  },
  {
   "cell_type": "code",
   "execution_count": 88,
   "metadata": {},
   "outputs": [
    {
     "name": "stdout",
     "output_type": "stream",
     "text": [
      "Search results: [(1, 'Example Title', 'This is an example description.')]\n"
     ]
    }
   ],
   "source": [
    "import sqlite3\n",
    "\n",
    "# Connect to the database\n",
    "conn = sqlite3.connect(':memory:')  # Use an in-memory database for testing\n",
    "cursor = conn.cursor()\n",
    "\n",
    "# Create a regular table with a primary key\n",
    "cursor.execute('''\n",
    "CREATE TABLE items (\n",
    "    id INTEGER PRIMARY KEY,\n",
    "    title TEXT NOT NULL,\n",
    "    description TEXT\n",
    ")\n",
    "''')\n",
    "\n",
    "# Create the FTS5 virtual table\n",
    "cursor.execute('''\n",
    "CREATE VIRTUAL TABLE items_fts USING fts5(\n",
    "    title,\n",
    "    description,\n",
    "    content='items',  -- Links the FTS table to the regular table\n",
    "    content_rowid='id'\n",
    ")\n",
    "''')\n",
    "\n",
    "# Insert a row into the regular table and the FTS5 table\n",
    "cursor.execute('''\n",
    "INSERT INTO items (id, title, description) VALUES (?, ?, ?)\n",
    "''', (1, 'Example Title', 'This is an example description.'))\n",
    "\n",
    "# Update the FTS5 table to reflect the new row\n",
    "cursor.execute('''\n",
    "INSERT INTO items_fts (rowid, title, description)\n",
    "SELECT id, title, description FROM items\n",
    "''')\n",
    "\n",
    "# Search using the FTS5 table\n",
    "cursor.execute('''\n",
    "SELECT items.id, items.title, items.description\n",
    "FROM items\n",
    "JOIN items_fts ON items.id = items_fts.rowid\n",
    "WHERE items_fts MATCH 'example'\n",
    "''')\n",
    "\n",
    "# Fetch and print results\n",
    "results = cursor.fetchall()\n",
    "print(\"Search results:\", results)\n",
    "\n",
    "# Close the connection\n",
    "conn.close()\n"
   ]
  },
  {
   "cell_type": "code",
   "execution_count": null,
   "metadata": {},
   "outputs": [],
   "source": []
  }
 ],
 "metadata": {
  "kernelspec": {
   "display_name": "venv",
   "language": "python",
   "name": "python3"
  },
  "language_info": {
   "codemirror_mode": {
    "name": "ipython",
    "version": 3
   },
   "file_extension": ".py",
   "mimetype": "text/x-python",
   "name": "python",
   "nbconvert_exporter": "python",
   "pygments_lexer": "ipython3",
   "version": "3.11.10"
  }
 },
 "nbformat": 4,
 "nbformat_minor": 2
}
